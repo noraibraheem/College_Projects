{
 "cells": [
  {
   "cell_type": "markdown",
   "metadata": {},
   "source": [
    "## GammaCorrection"
   ]
  },
  {
   "cell_type": "markdown",
   "metadata": {},
   "source": [
    "<p>it can be used to correct the brightness of an image by using a non linear transformation between the input values and the mapped output values:\n",
    "O=(I/255)**γ×255</p>\n",
    "\n",
    "* I – input pixel value [0, 255].\n",
    "* O – output pixel value [0, 255].\n",
    "* γ – gamma that controls image brightness. If gamma < 1 then image will be darker, if gamma > 1 then image will be lighter. \n",
    "<p>A gamma = 1 has no effect.</p>\n",
    "* Gamma correction can be implemented using lookup table (LUT). It maps the input pixel values to the output values. \n",
    "* For each pixel value in the range [0, 255] is calculated corresponding gamma corrected value. OpenCV provides LUT function which performs a lookup table transform."
   ]
  },
  {
   "cell_type": "code",
   "execution_count": null,
   "metadata": {},
   "outputs": [],
   "source": [
    "import cv2\n",
    "import numpy as np\n",
    " \n",
    " \n",
    "def gammaCorrection(src, gamma):\n",
    "    invGamma = 1 / gamma\n",
    " \n",
    "    table = [((i / 255) ** invGamma) * 255 for i in range(256)]\n",
    "    table = np.array(table, np.uint8)\n",
    " \n",
    "    return cv2.LUT(src, table)\n",
    " \n",
    " \n",
    "img = cv2.imread('lena.jpg')\n",
    "gammaImg = gammaCorrection(img, 2.2)\n",
    " \n",
    "cv2.imshow('Original image', img)\n",
    "cv2.imshow('Gamma corrected image', gammaImg)\n",
    "cv2.waitKey(0)\n",
    "cv2.destroyAllWindows()"
   ]
  },
  {
   "cell_type": "code",
   "execution_count": null,
   "metadata": {},
   "outputs": [],
   "source": []
  }
 ],
 "metadata": {
  "kernelspec": {
   "display_name": "Python 3",
   "language": "python",
   "name": "python3"
  },
  "language_info": {
   "codemirror_mode": {
    "name": "ipython",
    "version": 3
   },
   "file_extension": ".py",
   "mimetype": "text/x-python",
   "name": "python",
   "nbconvert_exporter": "python",
   "pygments_lexer": "ipython3",
   "version": "3.8.3"
  }
 },
 "nbformat": 4,
 "nbformat_minor": 4
}
